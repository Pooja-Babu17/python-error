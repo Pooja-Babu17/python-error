{
 "cells": [
  {
   "cell_type": "code",
   "execution_count": 1,
   "id": "bd12da62-0c2a-460b-bc50-d84e15f8d350",
   "metadata": {},
   "outputs": [
    {
     "ename": "SyntaxError",
     "evalue": "expected ':' (833702412.py, line 2)",
     "output_type": "error",
     "traceback": [
      "\u001b[1;36m  Cell \u001b[1;32mIn[1], line 2\u001b[1;36m\u001b[0m\n\u001b[1;33m    if name == \"Admin\"\u001b[0m\n\u001b[1;37m                      ^\u001b[0m\n\u001b[1;31mSyntaxError\u001b[0m\u001b[1;31m:\u001b[0m expected ':'\n"
     ]
    }
   ],
   "source": [
    "name = \"Admin\"\n",
    "if name == \"Admin\"\n",
    "    print(\"Admin will give access.\")\n",
    "else:\n",
    "    print(\"Admin will not give access.\")"
   ]
  },
  {
   "cell_type": "code",
   "execution_count": 2,
   "id": "d7604ec9-ead2-46a0-9840-46c2aa0c491e",
   "metadata": {},
   "outputs": [
    {
     "ename": "SyntaxError",
     "evalue": "invalid syntax. Maybe you meant '==' or ':=' instead of '='? (412189486.py, line 3)",
     "output_type": "error",
     "traceback": [
      "\u001b[1;36m  Cell \u001b[1;32mIn[2], line 3\u001b[1;36m\u001b[0m\n\u001b[1;33m    if name = \"Admin\":\u001b[0m\n\u001b[1;37m       ^\u001b[0m\n\u001b[1;31mSyntaxError\u001b[0m\u001b[1;31m:\u001b[0m invalid syntax. Maybe you meant '==' or ':=' instead of '='?\n"
     ]
    }
   ],
   "source": [
    "name = \"Admin\"\n",
    "\n",
    "if name = \"Admin\":\n",
    "    print(\"Admin will give access.\")\n",
    "else:\n",
    "    print(\"Admin will not give access.\")"
   ]
  },
  {
   "cell_type": "code",
   "execution_count": 3,
   "id": "f062bbaa-3769-45db-869d-682f1d921f75",
   "metadata": {},
   "outputs": [
    {
     "ename": "SyntaxError",
     "evalue": "invalid syntax (1742326814.py, line 5)",
     "output_type": "error",
     "traceback": [
      "\u001b[1;36m  Cell \u001b[1;32mIn[3], line 5\u001b[1;36m\u001b[0m\n\u001b[1;33m    iif user_role == \"Admin\":\u001b[0m\n\u001b[1;37m        ^\u001b[0m\n\u001b[1;31mSyntaxError\u001b[0m\u001b[1;31m:\u001b[0m invalid syntax\n"
     ]
    }
   ],
   "source": [
    "#Intentional syntax error: Misspelled 'if' and 'else' keywords\n",
    "user_role = \"Admin\"\n",
    "\n",
    "# Misspelled 'if' as 'iif'\n",
    "iif user_role == \"Admin\":\n",
    "    print(\"Access granted. You are an administrator.\")\n",
    "elsse:\n",
    "    print(\"Access denied. You are not an administrator.\")"
   ]
  },
  {
   "cell_type": "code",
   "execution_count": 4,
   "id": "7d87e805-95da-4f22-8bb6-95f7036c0a00",
   "metadata": {},
   "outputs": [
    {
     "ename": "SyntaxError",
     "evalue": "'[' was never closed (4258379247.py, line 5)",
     "output_type": "error",
     "traceback": [
      "\u001b[1;36m  Cell \u001b[1;32mIn[4], line 5\u001b[1;36m\u001b[0m\n\u001b[1;33m    squares = [n**2 for n in numbers\u001b[0m\n\u001b[1;37m              ^\u001b[0m\n\u001b[1;31mSyntaxError\u001b[0m\u001b[1;31m:\u001b[0m '[' was never closed\n"
     ]
    }
   ],
   "source": [
    "# Generating squares for numbers 1 to 5\n",
    "numbers = [1, 2, 3, 4, 5]\n",
    "\n",
    "# List comprehension to calculate squares\n",
    "squares = [n**2 for n in numbers\n",
    "\n",
    "# Printing the result\n",
    "print(squares)"
   ]
  },
  {
   "cell_type": "code",
   "execution_count": 5,
   "id": "2070858f-5c8a-4978-9d62-be9fba8bfbe1",
   "metadata": {},
   "outputs": [
    {
     "ename": "SyntaxError",
     "evalue": "'break' outside loop (910211101.py, line 7)",
     "output_type": "error",
     "traceback": [
      "\u001b[1;36m  Cell \u001b[1;32mIn[5], line 7\u001b[1;36m\u001b[0m\n\u001b[1;33m    break  # Intentional syntax error\u001b[0m\n\u001b[1;37m    ^\u001b[0m\n\u001b[1;31mSyntaxError\u001b[0m\u001b[1;31m:\u001b[0m 'break' outside loop\n"
     ]
    }
   ],
   "source": [
    "# Intentional syntax errors: Using 'break' and 'continue' outside of loops\n",
    "persons = ['alice', 'bob', 'charlie']\n",
    "\n",
    "# Using 'break' outside of a loop\n",
    "if 'bob' in persons:\n",
    "    print('Bob found')\n",
    "    break  # Intentional syntax error\n",
    "\n",
    "# Using 'continue' outside of a loop\n",
    "if 'bob' in persons:\n",
    "    print('Bob found')\n",
    "    continue  # Intentional syntax error"
   ]
  },
  {
   "cell_type": "code",
   "execution_count": null,
   "id": "1fe37b84-08a3-4e25-8a14-b1f5defbd4fd",
   "metadata": {},
   "outputs": [],
   "source": [
    "ages = {'pam'; 24}\n",
    "print(ages['pam'])"
   ]
  }
 ],
 "metadata": {
  "kernelspec": {
   "display_name": "Python 3 (ipykernel)",
   "language": "python",
   "name": "python3"
  },
  "language_info": {
   "codemirror_mode": {
    "name": "ipython",
    "version": 3
   },
   "file_extension": ".py",
   "mimetype": "text/x-python",
   "name": "python",
   "nbconvert_exporter": "python",
   "pygments_lexer": "ipython3",
   "version": "3.11.0"
  }
 },
 "nbformat": 4,
 "nbformat_minor": 5
}
