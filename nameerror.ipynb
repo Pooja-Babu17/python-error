{
 "cells": [
  {
   "cell_type": "code",
   "execution_count": 1,
   "id": "9f78d1cf-baf5-4a2e-a880-7c196f853bc8",
   "metadata": {},
   "outputs": [
    {
     "ename": "NameError",
     "evalue": "name 'message' is not defined",
     "output_type": "error",
     "traceback": [
      "\u001b[1;31m---------------------------------------------------------------------------\u001b[0m",
      "\u001b[1;31mNameError\u001b[0m                                 Traceback (most recent call last)",
      "Cell \u001b[1;32mIn[1], line 1\u001b[0m\n\u001b[1;32m----> 1\u001b[0m \u001b[38;5;28mprint\u001b[39m(message)\n",
      "\u001b[1;31mNameError\u001b[0m: name 'message' is not defined"
     ]
    }
   ],
   "source": [
    "print(message)"
   ]
  },
  {
   "cell_type": "code",
   "execution_count": 2,
   "id": "7b65a963-bed3-4b48-b70d-c3c73d95d525",
   "metadata": {},
   "outputs": [
    {
     "name": "stdout",
     "output_type": "stream",
     "text": [
      "Hello, beginner level practice!\n"
     ]
    }
   ],
   "source": [
    "message = \"Hello, beginner level practice!\"\n",
    "print(message)"
   ]
  },
  {
   "cell_type": "code",
   "execution_count": 3,
   "id": "40423f19-508e-46c6-8431-4e2d3c188072",
   "metadata": {},
   "outputs": [
    {
     "ename": "NameError",
     "evalue": "name 'info' is not defined",
     "output_type": "error",
     "traceback": [
      "\u001b[1;31m---------------------------------------------------------------------------\u001b[0m",
      "\u001b[1;31mNameError\u001b[0m                                 Traceback (most recent call last)",
      "Cell \u001b[1;32mIn[3], line 1\u001b[0m\n\u001b[1;32m----> 1\u001b[0m \u001b[38;5;28mprint\u001b[39m(info)\n\u001b[0;32m      2\u001b[0m info \u001b[38;5;241m=\u001b[39m \u001b[38;5;124m\"\u001b[39m\u001b[38;5;124mHello, beginner level practice!\u001b[39m\u001b[38;5;124m\"\u001b[39m\n",
      "\u001b[1;31mNameError\u001b[0m: name 'info' is not defined"
     ]
    }
   ],
   "source": [
    "print(info)\n",
    "info = \"Hello, beginner level practice!\"\n"
   ]
  },
  {
   "cell_type": "code",
   "execution_count": 4,
   "id": "68ac09fb-9b5f-4ea1-bba6-f2095b397b33",
   "metadata": {},
   "outputs": [
    {
     "name": "stdout",
     "output_type": "stream",
     "text": [
      "Hello, beginner level practice!\n"
     ]
    }
   ],
   "source": [
    "info = \"Hello, beginner level practice!\"\n",
    "print(info)"
   ]
  },
  {
   "cell_type": "code",
   "execution_count": 5,
   "id": "88b9b27a-e072-4611-82e7-e83f33c99399",
   "metadata": {},
   "outputs": [
    {
     "name": "stdin",
     "output_type": "stream",
     "text": [
      " AI\n"
     ]
    },
    {
     "ename": "NameError",
     "evalue": "name 'Print' is not defined",
     "output_type": "error",
     "traceback": [
      "\u001b[1;31m---------------------------------------------------------------------------\u001b[0m",
      "\u001b[1;31mNameError\u001b[0m                                 Traceback (most recent call last)",
      "Cell \u001b[1;32mIn[5], line 2\u001b[0m\n\u001b[0;32m      1\u001b[0m Hope\u001b[38;5;241m=\u001b[39m\u001b[38;5;28minput\u001b[39m()\n\u001b[1;32m----> 2\u001b[0m Print(Hop)\n",
      "\u001b[1;31mNameError\u001b[0m: name 'Print' is not defined"
     ]
    }
   ],
   "source": [
    "Hope=input()\n",
    "Print(Hop)"
   ]
  },
  {
   "cell_type": "code",
   "execution_count": 6,
   "id": "aeb68062-78fd-4fb7-b21d-ff7ee7f38e88",
   "metadata": {},
   "outputs": [
    {
     "name": "stdin",
     "output_type": "stream",
     "text": [
      " AI\n"
     ]
    },
    {
     "name": "stdout",
     "output_type": "stream",
     "text": [
      "AI\n"
     ]
    }
   ],
   "source": [
    "Hope=input()\n",
    "print(Hope)"
   ]
  },
  {
   "cell_type": "code",
   "execution_count": 7,
   "id": "9f7cf29c-1748-4010-85a5-b0e58bc6f579",
   "metadata": {},
   "outputs": [
    {
     "name": "stdin",
     "output_type": "stream",
     "text": [
      " ml\n"
     ]
    },
    {
     "ename": "NameError",
     "evalue": "name 'hopeAI' is not defined",
     "output_type": "error",
     "traceback": [
      "\u001b[1;31m---------------------------------------------------------------------------\u001b[0m",
      "\u001b[1;31mNameError\u001b[0m                                 Traceback (most recent call last)",
      "Cell \u001b[1;32mIn[7], line 2\u001b[0m\n\u001b[0;32m      1\u001b[0m HopeAI\u001b[38;5;241m=\u001b[39m\u001b[38;5;28minput\u001b[39m()\n\u001b[1;32m----> 2\u001b[0m \u001b[38;5;28mprint\u001b[39m(hopeAI)\n",
      "\u001b[1;31mNameError\u001b[0m: name 'hopeAI' is not defined"
     ]
    }
   ],
   "source": [
    "HopeAI=input()\n",
    "print(hopeAI)"
   ]
  },
  {
   "cell_type": "code",
   "execution_count": 8,
   "id": "512e71f9-b1f5-4f0b-9f7d-e0dc3117d1e4",
   "metadata": {},
   "outputs": [
    {
     "name": "stdin",
     "output_type": "stream",
     "text": [
      " ml\n"
     ]
    },
    {
     "name": "stdout",
     "output_type": "stream",
     "text": [
      "ml\n"
     ]
    }
   ],
   "source": [
    "HopeAI=input()\n",
    "print(HopeAI)"
   ]
  },
  {
   "cell_type": "code",
   "execution_count": 9,
   "id": "2f819838-f6fa-4903-a05d-2cc0faaaa947",
   "metadata": {},
   "outputs": [
    {
     "ename": "NameError",
     "evalue": "name 'C' is not defined",
     "output_type": "error",
     "traceback": [
      "\u001b[1;31m---------------------------------------------------------------------------\u001b[0m",
      "\u001b[1;31mNameError\u001b[0m                                 Traceback (most recent call last)",
      "Cell \u001b[1;32mIn[9], line 4\u001b[0m\n\u001b[0;32m      2\u001b[0m b\u001b[38;5;241m=\u001b[39m\u001b[38;5;241m3\u001b[39m\n\u001b[0;32m      3\u001b[0m c\u001b[38;5;241m=\u001b[39ma\u001b[38;5;241m+\u001b[39mb\n\u001b[1;32m----> 4\u001b[0m \u001b[38;5;28mprint\u001b[39m(C)\n",
      "\u001b[1;31mNameError\u001b[0m: name 'C' is not defined"
     ]
    }
   ],
   "source": [
    "a=4\n",
    "b=3\n",
    "c=a+b\n",
    "print(C)"
   ]
  },
  {
   "cell_type": "code",
   "execution_count": 10,
   "id": "239571c4-911b-4db8-9c05-e77b67b8ad37",
   "metadata": {},
   "outputs": [
    {
     "name": "stdout",
     "output_type": "stream",
     "text": [
      "7\n"
     ]
    }
   ],
   "source": [
    "a=4\n",
    "b=3\n",
    "c=a+b\n",
    "print(c)"
   ]
  },
  {
   "cell_type": "code",
   "execution_count": 11,
   "id": "8c01a233-01af-450b-af05-cce0f0fd416f",
   "metadata": {},
   "outputs": [
    {
     "ename": "NameError",
     "evalue": "name 'calculate_area' is not defined",
     "output_type": "error",
     "traceback": [
      "\u001b[1;31m---------------------------------------------------------------------------\u001b[0m",
      "\u001b[1;31mNameError\u001b[0m                                 Traceback (most recent call last)",
      "Cell \u001b[1;32mIn[11], line 3\u001b[0m\n\u001b[0;32m      1\u001b[0m length \u001b[38;5;241m=\u001b[39m \u001b[38;5;241m5\u001b[39m\n\u001b[0;32m      2\u001b[0m width \u001b[38;5;241m=\u001b[39m \u001b[38;5;241m10\u001b[39m\n\u001b[1;32m----> 3\u001b[0m area \u001b[38;5;241m=\u001b[39m calculate_area(length, width)\n\u001b[0;32m      4\u001b[0m \u001b[38;5;28mprint\u001b[39m(\u001b[38;5;124m\"\u001b[39m\u001b[38;5;124mArea:\u001b[39m\u001b[38;5;124m\"\u001b[39m, area)\n",
      "\u001b[1;31mNameError\u001b[0m: name 'calculate_area' is not defined"
     ]
    }
   ],
   "source": [
    "length = 5\n",
    "width = 10\n",
    "area = calculate_area(length, width)\n",
    "print(\"Area:\", area)"
   ]
  },
  {
   "cell_type": "code",
   "execution_count": 12,
   "id": "bef12a3a-199a-4401-a314-eb3e9e62bb88",
   "metadata": {},
   "outputs": [
    {
     "name": "stdout",
     "output_type": "stream",
     "text": [
      "Area: 50\n"
     ]
    }
   ],
   "source": [
    "def calculate_area(length, width):\n",
    "    return length * width\n",
    "length = 5\n",
    "width = 10\n",
    "area = calculate_area(length, width)\n",
    "print(\"Area:\", area)"
   ]
  },
  {
   "cell_type": "code",
   "execution_count": 22,
   "id": "e2c9dc98-b618-4c3d-94a3-c59ce73ecfc0",
   "metadata": {},
   "outputs": [
    {
     "ename": "NameError",
     "evalue": "name 'cal_sum' is not defined",
     "output_type": "error",
     "traceback": [
      "\u001b[1;31m---------------------------------------------------------------------------\u001b[0m",
      "\u001b[1;31mNameError\u001b[0m                                 Traceback (most recent call last)",
      "Cell \u001b[1;32mIn[22], line 4\u001b[0m\n\u001b[0;32m      2\u001b[0m     cal\u001b[38;5;241m=\u001b[39mX\u001b[38;5;241m+\u001b[39mY\n\u001b[0;32m      3\u001b[0m     \u001b[38;5;28;01mreturn\u001b[39;00m(cal)\n\u001b[1;32m----> 4\u001b[0m solution\u001b[38;5;241m=\u001b[39mcal_sum(\u001b[38;5;241m20\u001b[39m,\u001b[38;5;241m30\u001b[39m)  \n\u001b[0;32m      5\u001b[0m \u001b[38;5;28mprint\u001b[39m(solution)\n",
      "\u001b[1;31mNameError\u001b[0m: name 'cal_sum' is not defined"
     ]
    }
   ],
   "source": [
    "def calc_sum(x,y):\n",
    "    cal=X+Y\n",
    "    return(cal)\n",
    "solution=cal_sum(20,30)  \n",
    "print(solution)   "
   ]
  },
  {
   "cell_type": "code",
   "execution_count": 23,
   "id": "30433f8e-6967-4b0e-a433-c822db83d8f5",
   "metadata": {},
   "outputs": [
    {
     "name": "stdout",
     "output_type": "stream",
     "text": [
      "50\n"
     ]
    }
   ],
   "source": [
    "def calc_sum(x, y):\n",
    "    cal = x + y \n",
    "    return cal\n",
    "\n",
    "solution = calc_sum(20, 30)  \n",
    "print(solution)"
   ]
  },
  {
   "cell_type": "code",
   "execution_count": 32,
   "id": "9cc079b8-13b8-4503-8f19-987af96fa676",
   "metadata": {},
   "outputs": [
    {
     "name": "stdout",
     "output_type": "stream",
     "text": [
      "[1, 2, 3, 4, 5]\n"
     ]
    },
    {
     "ename": "NameError",
     "evalue": "name 'lis1' is not defined",
     "output_type": "error",
     "traceback": [
      "\u001b[1;31m---------------------------------------------------------------------------\u001b[0m",
      "\u001b[1;31mNameError\u001b[0m                                 Traceback (most recent call last)",
      "Cell \u001b[1;32mIn[32], line 8\u001b[0m\n\u001b[0;32m      6\u001b[0m \u001b[38;5;28mlist\u001b[39m[\u001b[38;5;241m2\u001b[39m] \u001b[38;5;241m=\u001b[39m \u001b[38;5;241m3\u001b[39m\n\u001b[0;32m      7\u001b[0m \u001b[38;5;28mprint\u001b[39m(\u001b[38;5;28mlist\u001b[39m)\n\u001b[1;32m----> 8\u001b[0m \u001b[38;5;28;01mdel\u001b[39;00m lis1[\u001b[38;5;241m4\u001b[39m]\n",
      "\u001b[1;31mNameError\u001b[0m: name 'lis1' is not defined"
     ]
    }
   ],
   "source": [
    "list = [1, 2, \"hopeai\", 4, 5]\n",
    "list2 = [1, 2, 3, 5, 333.8]\n",
    "\n",
    "\n",
    "\n",
    "list[2] = 3\n",
    "print(list)\n",
    "del lis1[4]\n"
   ]
  },
  {
   "cell_type": "code",
   "execution_count": 25,
   "id": "9362147e-5870-41b4-9019-3e075e730a2f",
   "metadata": {},
   "outputs": [
    {
     "name": "stdout",
     "output_type": "stream",
     "text": [
      "[1, 2, 3, 4, 5]\n",
      "[1, 2, 3, 5]\n"
     ]
    }
   ],
   "source": [
    "list=[1,2,\"hopeai\",4,5]\n",
    "list2=[1,2,3,5,333.8]\n",
    "list[2]=3\n",
    "print(list)\n",
    "del list2[4]\n",
    "print(list2)"
   ]
  },
  {
   "cell_type": "code",
   "execution_count": 33,
   "id": "ce9d116f-4aaf-4ab7-9518-73784f5a1dc3",
   "metadata": {},
   "outputs": [
    {
     "ename": "NameError",
     "evalue": "name 'np' is not defined",
     "output_type": "error",
     "traceback": [
      "\u001b[1;31m---------------------------------------------------------------------------\u001b[0m",
      "\u001b[1;31mNameError\u001b[0m                                 Traceback (most recent call last)",
      "Cell \u001b[1;32mIn[33], line 3\u001b[0m\n\u001b[0;32m      1\u001b[0m \u001b[38;5;28mlist\u001b[39m\u001b[38;5;241m=\u001b[39m[\u001b[38;5;241m1\u001b[39m,\u001b[38;5;241m2\u001b[39m,\u001b[38;5;241m4\u001b[39m,\u001b[38;5;241m5\u001b[39m,\u001b[38;5;241m6\u001b[39m]\n\u001b[0;32m      2\u001b[0m list2\u001b[38;5;241m=\u001b[39m[\u001b[38;5;241m1\u001b[39m,\u001b[38;5;241m2\u001b[39m,\u001b[38;5;241m3\u001b[39m,\u001b[38;5;241m5\u001b[39m,\u001b[38;5;241m333.8\u001b[39m]\n\u001b[1;32m----> 3\u001b[0m np\u001b[38;5;241m.\u001b[39mmean(\u001b[38;5;28mlist\u001b[39m)\n\u001b[0;32m      4\u001b[0m np\u001b[38;5;241m.\u001b[39mmedian(\u001b[38;5;28mlist\u001b[39m)\n",
      "\u001b[1;31mNameError\u001b[0m: name 'np' is not defined"
     ]
    }
   ],
   "source": [
    "list=[1,2,4,5,6]\n",
    "list2=[1,2,3,5,333.8]\n",
    "np.mean(list)\n",
    "np.median(list)"
   ]
  },
  {
   "cell_type": "code",
   "execution_count": 34,
   "id": "e0fc6638-2b7f-4f26-bf46-e3fceddce69a",
   "metadata": {},
   "outputs": [
    {
     "data": {
      "text/plain": [
       "4.0"
      ]
     },
     "execution_count": 34,
     "metadata": {},
     "output_type": "execute_result"
    }
   ],
   "source": [
    "import numpy as np\n",
    "list=[1,2,4,5,6]\n",
    "list2=[1,2,3,5,333.8]\n",
    "np.mean(list)\n",
    "np.median(list)"
   ]
  },
  {
   "cell_type": "code",
   "execution_count": 35,
   "id": "36f98d6f-0452-4f61-83c8-18764517e7ee",
   "metadata": {},
   "outputs": [
    {
     "name": "stdout",
     "output_type": "stream",
     "text": [
      "welcome to hope ai\n"
     ]
    },
    {
     "ename": "NameError",
     "evalue": "name 'name' is not defined",
     "output_type": "error",
     "traceback": [
      "\u001b[1;31m---------------------------------------------------------------------------\u001b[0m",
      "\u001b[1;31mNameError\u001b[0m                                 Traceback (most recent call last)",
      "Cell \u001b[1;32mIn[35], line 3\u001b[0m\n\u001b[0;32m      1\u001b[0m \u001b[38;5;28mprint\u001b[39m(\u001b[38;5;124m\"\u001b[39m\u001b[38;5;124mwelcome to hope ai\u001b[39m\u001b[38;5;124m\"\u001b[39m)\n\u001b[0;32m      2\u001b[0m student\u001b[38;5;241m=\u001b[39m(\u001b[38;5;124m\"\u001b[39m\u001b[38;5;124mkavi\u001b[39m\u001b[38;5;124m\"\u001b[39m)\n\u001b[1;32m----> 3\u001b[0m \u001b[38;5;28mprint\u001b[39m(name,\u001b[38;5;124m\"\u001b[39m\u001b[38;5;124myou can ask doubt\u001b[39m\u001b[38;5;124m\"\u001b[39m)\n",
      "\u001b[1;31mNameError\u001b[0m: name 'name' is not defined"
     ]
    }
   ],
   "source": [
    "print(\"welcome to hope ai\")\n",
    "student=(\"kavi\")\n",
    "print(name,\"you can ask doubt\")"
   ]
  },
  {
   "cell_type": "code",
   "execution_count": 36,
   "id": "50b10255-884a-458f-bfca-c318b431b10d",
   "metadata": {},
   "outputs": [
    {
     "name": "stdout",
     "output_type": "stream",
     "text": [
      "welcome to hope ai\n",
      "kavi you can ask doubt\n"
     ]
    }
   ],
   "source": [
    "print(\"welcome to hope ai\")\n",
    "student=(\"kavi\")\n",
    "print(student,\"you can ask doubt\")"
   ]
  },
  {
   "cell_type": "code",
   "execution_count": 37,
   "id": "0a22dd36-3ccd-4527-98ee-c92165a046f3",
   "metadata": {},
   "outputs": [
    {
     "name": "stdout",
     "output_type": "stream",
     "text": [
      "welcome to hope ai\n"
     ]
    },
    {
     "ename": "NameError",
     "evalue": "name 'kavi' is not defined",
     "output_type": "error",
     "traceback": [
      "\u001b[1;31m---------------------------------------------------------------------------\u001b[0m",
      "\u001b[1;31mNameError\u001b[0m                                 Traceback (most recent call last)",
      "Cell \u001b[1;32mIn[37], line 2\u001b[0m\n\u001b[0;32m      1\u001b[0m \u001b[38;5;28mprint\u001b[39m(\u001b[38;5;124m\"\u001b[39m\u001b[38;5;124mwelcome to hope ai\u001b[39m\u001b[38;5;124m\"\u001b[39m)\n\u001b[1;32m----> 2\u001b[0m student\u001b[38;5;241m=\u001b[39m(kavi)\n\u001b[0;32m      3\u001b[0m \u001b[38;5;28mprint\u001b[39m(student,\u001b[38;5;124m\"\u001b[39m\u001b[38;5;124myou can ask doubt\u001b[39m\u001b[38;5;124m\"\u001b[39m)\n",
      "\u001b[1;31mNameError\u001b[0m: name 'kavi' is not defined"
     ]
    }
   ],
   "source": [
    "print(\"welcome to hope ai\")\n",
    "student=(kavi)\n",
    "print(student,\"you can ask doubt\")"
   ]
  },
  {
   "cell_type": "code",
   "execution_count": 38,
   "id": "6226750c-7b8d-4b9c-b4f1-0cf740519f0c",
   "metadata": {},
   "outputs": [
    {
     "name": "stdout",
     "output_type": "stream",
     "text": [
      "welcome to hope ai\n",
      "kavi you can ask doubt\n"
     ]
    }
   ],
   "source": [
    "print(\"welcome to hope ai\")\n",
    "student=(\"kavi\")\n",
    "print(student,\"you can ask doubt\")"
   ]
  },
  {
   "cell_type": "code",
   "execution_count": 39,
   "id": "2f40faf8-58b9-4dbb-8285-268c0ae4cc3c",
   "metadata": {},
   "outputs": [
    {
     "ename": "NameError",
     "evalue": "name 'x' is not defined",
     "output_type": "error",
     "traceback": [
      "\u001b[1;31m---------------------------------------------------------------------------\u001b[0m",
      "\u001b[1;31mNameError\u001b[0m                                 Traceback (most recent call last)",
      "Cell \u001b[1;32mIn[39], line 1\u001b[0m\n\u001b[1;32m----> 1\u001b[0m \u001b[38;5;28;01mfor\u001b[39;00m i \u001b[38;5;129;01min\u001b[39;00m \u001b[38;5;28mrange\u001b[39m(x):\n\u001b[0;32m      2\u001b[0m     \u001b[38;5;28mprint\u001b[39m(i)\n",
      "\u001b[1;31mNameError\u001b[0m: name 'x' is not defined"
     ]
    }
   ],
   "source": [
    "for i in range(x):\n",
    "    print(i)"
   ]
  },
  {
   "cell_type": "code",
   "execution_count": 41,
   "id": "b36f500d-3aaf-40d0-93e4-d1b08a2e0f25",
   "metadata": {},
   "outputs": [
    {
     "name": "stdout",
     "output_type": "stream",
     "text": [
      "0\n",
      "1\n",
      "2\n",
      "3\n",
      "4\n",
      "5\n",
      "6\n"
     ]
    }
   ],
   "source": [
    "x=7\n",
    "for i in range(x):\n",
    "    print(i)"
   ]
  },
  {
   "cell_type": "code",
   "execution_count": 45,
   "id": "cdc05676-aec8-4bb6-aa68-9ed17fb220d6",
   "metadata": {},
   "outputs": [
    {
     "ename": "NameError",
     "evalue": "name 'y' is not defined",
     "output_type": "error",
     "traceback": [
      "\u001b[1;31m---------------------------------------------------------------------------\u001b[0m",
      "\u001b[1;31mNameError\u001b[0m                                 Traceback (most recent call last)",
      "Cell \u001b[1;32mIn[45], line 4\u001b[0m\n\u001b[0;32m      2\u001b[0m     y\u001b[38;5;241m=\u001b[39m\u001b[38;5;241m60\u001b[39m\n\u001b[0;32m      3\u001b[0m val()\n\u001b[1;32m----> 4\u001b[0m \u001b[38;5;28mprint\u001b[39m(y)\n",
      "\u001b[1;31mNameError\u001b[0m: name 'y' is not defined"
     ]
    }
   ],
   "source": [
    "def val():\n",
    "    y=60\n",
    "val()\n",
    "print(y)"
   ]
  },
  {
   "cell_type": "code",
   "execution_count": 49,
   "id": "db6315b8-2bd5-4b8a-b695-64001defb285",
   "metadata": {},
   "outputs": [
    {
     "name": "stdout",
     "output_type": "stream",
     "text": [
      "60\n"
     ]
    }
   ],
   "source": [
    "def val():\n",
    "    y = 60\n",
    "    return y\n",
    "\n",
    "result = val()\n",
    "print(result)"
   ]
  },
  {
   "cell_type": "code",
   "execution_count": 51,
   "id": "e9ab2235-04ff-4738-a514-f98b0ac559a8",
   "metadata": {},
   "outputs": [
    {
     "name": "stdout",
     "output_type": "stream",
     "text": [
      "NameError Occurred\n"
     ]
    }
   ],
   "source": [
    "def val():\n",
    "    try:\n",
    "        z=5\n",
    "        return Y \n",
    "    except NameError:\n",
    "        return \"NameError Occurred\"\n",
    " \n",
    "print(val())"
   ]
  },
  {
   "cell_type": "code",
   "execution_count": 52,
   "id": "bd2d7786-684d-4b86-9f7d-7ec398ed4a2b",
   "metadata": {},
   "outputs": [
    {
     "name": "stdout",
     "output_type": "stream",
     "text": [
      "5\n"
     ]
    }
   ],
   "source": [
    "def val():\n",
    "    try:\n",
    "        z = 5\n",
    "        return z  # Return the value of z instead of Y\n",
    "    except NameError:\n",
    "        return \"NameError Occurred\"\n",
    "\n",
    "print(val())"
   ]
  },
  {
   "cell_type": "code",
   "execution_count": null,
   "id": "73fafa59-6aba-4afa-a1eb-d803d63bf81c",
   "metadata": {},
   "outputs": [],
   "source": []
  }
 ],
 "metadata": {
  "kernelspec": {
   "display_name": "Python 3 (ipykernel)",
   "language": "python",
   "name": "python3"
  },
  "language_info": {
   "codemirror_mode": {
    "name": "ipython",
    "version": 3
   },
   "file_extension": ".py",
   "mimetype": "text/x-python",
   "name": "python",
   "nbconvert_exporter": "python",
   "pygments_lexer": "ipython3",
   "version": "3.11.0"
  }
 },
 "nbformat": 4,
 "nbformat_minor": 5
}
