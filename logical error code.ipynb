{
 "cells": [
  {
   "cell_type": "code",
   "execution_count": null,
   "id": "269c42ba-edee-41ca-a908-cc14503fd3b4",
   "metadata": {},
   "outputs": [],
   "source": [
    "#logic error"
   ]
  },
  {
   "cell_type": "code",
   "execution_count": 4,
   "id": "2a4dc938-c3f9-4cf5-80a5-584424fc43d5",
   "metadata": {},
   "outputs": [
    {
     "name": "stdout",
     "output_type": "stream",
     "text": [
      "The incorrectly calculated average is: 31.0\n"
     ]
    }
   ],
   "source": [
    "#\n",
    "def calculate_average(numbers):\n",
    "    total = sum(numbers)\n",
    "    average = total / len(numbers) + 1  # Intentional logic error: adding 1 to the average\n",
    "\n",
    "    return average\n",
    "\n",
    "# Example with a logic error\n",
    "data = [10, 20, 30, 40, 50]\n",
    "average_result = calculate_average(data)\n",
    "print(f\"The incorrectly calculated average is: {average_result}\")\n"
   ]
  },
  {
   "cell_type": "code",
   "execution_count": 3,
   "id": "c205cf10-3cb2-40a8-addc-eb54b4cf0bc5",
   "metadata": {},
   "outputs": [
    {
     "name": "stdout",
     "output_type": "stream",
     "text": [
      "The average is: 30.0\n"
     ]
    }
   ],
   "source": [
    "def calculate_average(numbers):\n",
    "    total = sum(numbers)\n",
    "    average = total / len(numbers)  # Logic error: dividing by the total number of elements instead of the correct count\n",
    "\n",
    "    return average\n",
    "\n",
    "# Example with a logic error\n",
    "data = [10, 20, 30, 40, 50]\n",
    "average_result = calculate_average(data)\n",
    "print(f\"The average is: {average_result}\")"
   ]
  },
  {
   "cell_type": "code",
   "execution_count": 5,
   "id": "d122afca-06ad-40a0-a7fd-23259b94683c",
   "metadata": {},
   "outputs": [
    {
     "name": "stdout",
     "output_type": "stream",
     "text": [
      "The incorrectly calculated average is: 30.0\n"
     ]
    }
   ],
   "source": [
    "# Simple logical error code for data science\n",
    "def calculate_average(data):\n",
    "    total = sum(data)\n",
    "    count = len(data)\n",
    "\n",
    "    # Intentional logical error: dividing total by count instead of calculating the average\n",
    "    average = total / count  # Incorrect formula for calculating the average\n",
    "\n",
    "    return average\n",
    "\n",
    "# Example with a logical error\n",
    "data_values = [10, 20, 30, 40, 50]\n",
    "incorrect_avg = calculate_average(data_values)\n",
    "\n",
    "print(f\"The incorrectly calculated average is: {incorrect_avg}\")\n"
   ]
  },
  {
   "cell_type": "code",
   "execution_count": 6,
   "id": "9c9bf930-db9b-42ec-b3cf-f04acb45e186",
   "metadata": {},
   "outputs": [
    {
     "name": "stdout",
     "output_type": "stream",
     "text": [
      "The correctly calculated average is: 30.0\n"
     ]
    }
   ],
   "source": [
    "# Corrected code for calculating average in data science\n",
    "def calculate_average(data):\n",
    "    total = sum(data)\n",
    "    count = len(data)\n",
    "\n",
    "    # Corrected formula for calculating the average\n",
    "    average = total / count\n",
    "\n",
    "    return average\n",
    "\n",
    "# Example with the corrected code\n",
    "data_values = [10, 20, 30, 40, 50]\n",
    "correct_avg = calculate_average(data_values)\n",
    "\n",
    "print(f\"The correctly calculated average is: {correct_avg}\")\n"
   ]
  },
  {
   "cell_type": "code",
   "execution_count": null,
   "id": "0c8ef8dc-ac62-4fbc-928c-72df8392ad94",
   "metadata": {},
   "outputs": [],
   "source": []
  }
 ],
 "metadata": {
  "kernelspec": {
   "display_name": "Python 3 (ipykernel)",
   "language": "python",
   "name": "python3"
  },
  "language_info": {
   "codemirror_mode": {
    "name": "ipython",
    "version": 3
   },
   "file_extension": ".py",
   "mimetype": "text/x-python",
   "name": "python",
   "nbconvert_exporter": "python",
   "pygments_lexer": "ipython3",
   "version": "3.11.0"
  }
 },
 "nbformat": 4,
 "nbformat_minor": 5
}
