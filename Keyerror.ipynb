{
 "cells": [
  {
   "cell_type": "code",
   "execution_count": 4,
   "id": "fe730a5a-3a27-40ac-9547-a440b9371f8a",
   "metadata": {},
   "outputs": [
    {
     "ename": "KeyError",
     "evalue": "'prem'",
     "output_type": "error",
     "traceback": [
      "\u001b[1;31m---------------------------------------------------------------------------\u001b[0m",
      "\u001b[1;31mKeyError\u001b[0m                                  Traceback (most recent call last)",
      "Cell \u001b[1;32mIn[4], line 2\u001b[0m\n\u001b[0;32m      1\u001b[0m ages \u001b[38;5;241m=\u001b[39m {\u001b[38;5;124m'\u001b[39m\u001b[38;5;124mKeera\u001b[39m\u001b[38;5;124m'\u001b[39m: \u001b[38;5;241m30\u001b[39m, \u001b[38;5;124m'\u001b[39m\u001b[38;5;124mkarthik\u001b[39m\u001b[38;5;124m'\u001b[39m: \u001b[38;5;241m28\u001b[39m, \u001b[38;5;124m'\u001b[39m\u001b[38;5;124mnaveen\u001b[39m\u001b[38;5;124m'\u001b[39m: \u001b[38;5;241m33\u001b[39m}\n\u001b[1;32m----> 2\u001b[0m ages[\u001b[38;5;124m'\u001b[39m\u001b[38;5;124mprem\u001b[39m\u001b[38;5;124m'\u001b[39m]\n",
      "\u001b[1;31mKeyError\u001b[0m: 'prem'"
     ]
    }
   ],
   "source": [
    "ages = {'Keera': 30, 'karthik': 28, 'naveen': 33}\n",
    "ages['prem'] \n",
    "\n"
   ]
  },
  {
   "cell_type": "code",
   "execution_count": 5,
   "id": "9e8c964a-cb78-4a7c-88db-4f2ad6929328",
   "metadata": {},
   "outputs": [
    {
     "data": {
      "text/plain": [
       "30"
      ]
     },
     "execution_count": 5,
     "metadata": {},
     "output_type": "execute_result"
    }
   ],
   "source": [
    "ages = {'Keera': 30, 'karthik': 28, 'naveen': 33}\n",
    "ages['Keera'] \n"
   ]
  },
  {
   "cell_type": "code",
   "execution_count": 9,
   "id": "0dd0366b-b592-4bea-a1c9-27e54aa2df18",
   "metadata": {},
   "outputs": [
    {
     "name": "stdin",
     "output_type": "stream",
     "text": [
      "Get age for:  30\n"
     ]
    },
    {
     "ename": "KeyError",
     "evalue": "'30'",
     "output_type": "error",
     "traceback": [
      "\u001b[1;31m---------------------------------------------------------------------------\u001b[0m",
      "\u001b[1;31mKeyError\u001b[0m                                  Traceback (most recent call last)",
      "Cell \u001b[1;32mIn[9], line 3\u001b[0m\n\u001b[0;32m      1\u001b[0m ages \u001b[38;5;241m=\u001b[39m {\u001b[38;5;124m'\u001b[39m\u001b[38;5;124mKeera\u001b[39m\u001b[38;5;124m'\u001b[39m: \u001b[38;5;241m30\u001b[39m, \u001b[38;5;124m'\u001b[39m\u001b[38;5;124mkarthik\u001b[39m\u001b[38;5;124m'\u001b[39m: \u001b[38;5;241m28\u001b[39m, \u001b[38;5;124m'\u001b[39m\u001b[38;5;124mnaveen\u001b[39m\u001b[38;5;124m'\u001b[39m: \u001b[38;5;241m33\u001b[39m}\n\u001b[0;32m      2\u001b[0m person \u001b[38;5;241m=\u001b[39m \u001b[38;5;28minput\u001b[39m(\u001b[38;5;124m'\u001b[39m\u001b[38;5;124mGet age for: \u001b[39m\u001b[38;5;124m'\u001b[39m)\n\u001b[1;32m----> 3\u001b[0m \u001b[38;5;28mprint\u001b[39m(\u001b[38;5;124mf\u001b[39m\u001b[38;5;124m'\u001b[39m\u001b[38;5;132;01m{\u001b[39;00mperson\u001b[38;5;132;01m}\u001b[39;00m\u001b[38;5;124m is \u001b[39m\u001b[38;5;132;01m{\u001b[39;00mages[person]\u001b[38;5;132;01m}\u001b[39;00m\u001b[38;5;124m years old.\u001b[39m\u001b[38;5;124m'\u001b[39m)\n",
      "\u001b[1;31mKeyError\u001b[0m: '30'"
     ]
    }
   ],
   "source": [
    "ages = {'Keera': 30, 'karthik': 28, 'naveen': 33}\n",
    "person = input('Get age for: ')\n",
    "print(f'{person} is {ages[person]} years old.')"
   ]
  },
  {
   "cell_type": "code",
   "execution_count": 11,
   "id": "7bf2916d-2067-4b95-b3c1-c353387c6cac",
   "metadata": {},
   "outputs": [
    {
     "name": "stdin",
     "output_type": "stream",
     "text": [
      "Get age for:  karthik\n"
     ]
    },
    {
     "name": "stdout",
     "output_type": "stream",
     "text": [
      "karthik is 28 years old.\n"
     ]
    }
   ],
   "source": [
    "ages = {'Keera': 30, 'karthik': 28, 'naveen': 33}\n",
    "person = input('Get age for: ')\n",
    "print(f'{person} is {ages[person]} years old.')"
   ]
  },
  {
   "cell_type": "code",
   "execution_count": 12,
   "id": "4ab58d64-6f9d-48c0-88b4-45e26300b922",
   "metadata": {},
   "outputs": [
    {
     "ename": "KeyError",
     "evalue": "'Fharan'",
     "output_type": "error",
     "traceback": [
      "\u001b[1;31m---------------------------------------------------------------------------\u001b[0m",
      "\u001b[1;31mKeyError\u001b[0m                                  Traceback (most recent call last)",
      "Cell \u001b[1;32mIn[12], line 7\u001b[0m\n\u001b[0;32m      1\u001b[0m subjects \u001b[38;5;241m=\u001b[39m {\u001b[38;5;124m'\u001b[39m\u001b[38;5;124mKeera\u001b[39m\u001b[38;5;124m'\u001b[39m: \u001b[38;5;124m'\u001b[39m\u001b[38;5;124mMaths\u001b[39m\u001b[38;5;124m'\u001b[39m, \n\u001b[0;32m      2\u001b[0m             \u001b[38;5;124m'\u001b[39m\u001b[38;5;124mkarthik\u001b[39m\u001b[38;5;124m'\u001b[39m: \u001b[38;5;124m'\u001b[39m\u001b[38;5;124mBiology\u001b[39m\u001b[38;5;124m'\u001b[39m, \n\u001b[0;32m      3\u001b[0m             \u001b[38;5;124m'\u001b[39m\u001b[38;5;124mnaveen\u001b[39m\u001b[38;5;124m'\u001b[39m: \u001b[38;5;124m'\u001b[39m\u001b[38;5;124mScience\u001b[39m\u001b[38;5;124m'\u001b[39m, \n\u001b[0;32m      4\u001b[0m             \u001b[38;5;124m'\u001b[39m\u001b[38;5;124mVijay\u001b[39m\u001b[38;5;124m'\u001b[39m: \u001b[38;5;124m'\u001b[39m\u001b[38;5;124mHindi\u001b[39m\u001b[38;5;124m'\u001b[39m} \n\u001b[0;32m      6\u001b[0m \u001b[38;5;66;03m# Printing the subject of Fharan \u001b[39;00m\n\u001b[1;32m----> 7\u001b[0m \u001b[38;5;28mprint\u001b[39m(subjects[\u001b[38;5;124m'\u001b[39m\u001b[38;5;124mFharan\u001b[39m\u001b[38;5;124m'\u001b[39m])\n",
      "\u001b[1;31mKeyError\u001b[0m: 'Fharan'"
     ]
    }
   ],
   "source": [
    "subjects = {'Keera': 'Maths', \n",
    "            'karthik': 'Biology', \n",
    "            'naveen': 'Science', \n",
    "            'Vijay': 'Hindi'} \n",
    "  \n",
    "# Printing the subject of Fharan \n",
    "print(subjects['Fharan']) "
   ]
  },
  {
   "cell_type": "code",
   "execution_count": 13,
   "id": "4e838017-7707-458f-9f9f-4f4913b4928d",
   "metadata": {},
   "outputs": [
    {
     "name": "stdout",
     "output_type": "stream",
     "text": [
      "Hindi\n"
     ]
    }
   ],
   "source": [
    "subjects = {'Keera': 'Maths', \n",
    "            'karthik': 'Biology', \n",
    "            'naveen': 'Science', \n",
    "            'Vijay': 'Hindi'} \n",
    "  \n",
    "# Printing the subject of Fharan \n",
    "print(subjects['Vijay']) "
   ]
  },
  {
   "cell_type": "code",
   "execution_count": 18,
   "id": "d28db8c9-e877-43d0-be91-817e6769981d",
   "metadata": {},
   "outputs": [
    {
     "name": "stdout",
     "output_type": "stream",
     "text": [
      "Student doesn't exist\n"
     ]
    }
   ],
   "source": [
    "subjects = {'Keera': 'Maths', \n",
    "            'karthik': 'Biology', \n",
    "            'naveen': 'Science', \n",
    "            'Vijay': 'Hindi'} \n",
    "# Storing the subject of student \n",
    "# that doesn't exist \n",
    "sub = subjects.get('Hindi',\"Student doesn't exist\") \n",
    "\n",
    "print(sub) "
   ]
  },
  {
   "cell_type": "code",
   "execution_count": 20,
   "id": "66b7cd7e-4c11-4501-a7b1-728f6a318da7",
   "metadata": {},
   "outputs": [
    {
     "name": "stdout",
     "output_type": "stream",
     "text": [
      "Biology\n"
     ]
    }
   ],
   "source": [
    "subjects = {'Keera': 'Maths', \n",
    "            'karthik': 'Biology', \n",
    "            'naveen': 'Science', \n",
    "            'Vijay': 'Hindi'} \n",
    "# Storing the subject of student \n",
    "# that doesn't exist \n",
    "sub = subjects.get('karthik') \n",
    "\n",
    "print(sub) "
   ]
  },
  {
   "cell_type": "code",
   "execution_count": 19,
   "id": "6711fb4c-fdfc-4588-ae60-4d715cab9864",
   "metadata": {},
   "outputs": [
    {
     "name": "stdout",
     "output_type": "stream",
     "text": [
      "Student doesn't exist\n"
     ]
    }
   ],
   "source": [
    "subjects = {'Keera': 'Maths', \n",
    "            'karthik': 'Biology', \n",
    "            'naveen': 'Science', \n",
    "            'Vijay': 'Hindi'} \n",
    "# Storing the subject of student \n",
    "# that doesn't exist \n",
    "sub = subjects.get('Hindi',\"Student doesn't exist\") \n",
    "\n",
    "print(sub) "
   ]
  },
  {
   "cell_type": "code",
   "execution_count": 21,
   "id": "e2dad4e8-7f01-4cdd-bbc2-3eba3376721c",
   "metadata": {},
   "outputs": [
    {
     "name": "stdout",
     "output_type": "stream",
     "text": [
      "Science\n"
     ]
    }
   ],
   "source": [
    "subjects = {'Keera': 'Maths', \n",
    "            'karthik': 'Biology', \n",
    "            'naveen': 'Science', \n",
    "            'Vijay': 'Hindi'} \n",
    "# Storing the subject of student \n",
    "# that doesn't exist \n",
    "sub = subjects.get('naveen',\"Student doesn't exist\") \n",
    "\n",
    "print(sub) "
   ]
  },
  {
   "cell_type": "code",
   "execution_count": 22,
   "id": "64726eb1-cef7-474f-94e8-50ca27bbb17f",
   "metadata": {},
   "outputs": [
    {
     "name": "stdout",
     "output_type": "stream",
     "text": [
      "apple\n"
     ]
    },
    {
     "ename": "KeyError",
     "evalue": "0",
     "output_type": "error",
     "traceback": [
      "\u001b[1;31m---------------------------------------------------------------------------\u001b[0m",
      "\u001b[1;31mKeyError\u001b[0m                                  Traceback (most recent call last)",
      "Cell \u001b[1;32mIn[22], line 7\u001b[0m\n\u001b[0;32m      1\u001b[0m fruit \u001b[38;5;241m=\u001b[39m {\n\u001b[0;32m      2\u001b[0m         \u001b[38;5;241m1\u001b[39m: \u001b[38;5;124m'\u001b[39m\u001b[38;5;124mapple\u001b[39m\u001b[38;5;124m'\u001b[39m, \n\u001b[0;32m      3\u001b[0m         \u001b[38;5;241m2\u001b[39m: \u001b[38;5;124m'\u001b[39m\u001b[38;5;124mbanana\u001b[39m\u001b[38;5;124m'\u001b[39m,\n\u001b[0;32m      4\u001b[0m         \u001b[38;5;241m3\u001b[39m: \u001b[38;5;124m'\u001b[39m\u001b[38;5;124morange\u001b[39m\u001b[38;5;124m'\u001b[39m\n\u001b[0;32m      5\u001b[0m      }\n\u001b[0;32m      6\u001b[0m \u001b[38;5;28mprint\u001b[39m(fruit[\u001b[38;5;241m1\u001b[39m])\n\u001b[1;32m----> 7\u001b[0m \u001b[38;5;28mprint\u001b[39m(fruit[\u001b[38;5;241m0\u001b[39m])\n",
      "\u001b[1;31mKeyError\u001b[0m: 0"
     ]
    }
   ],
   "source": [
    "fruit = {\n",
    "        1: 'apple', \n",
    "        2: 'banana',\n",
    "        3: 'orange'\n",
    "     }\n",
    "print(fruit[1])\n",
    "print(fruit[0])"
   ]
  },
  {
   "cell_type": "code",
   "execution_count": 23,
   "id": "fa8a0566-9a03-4f02-b631-559de8d0476f",
   "metadata": {},
   "outputs": [
    {
     "name": "stdout",
     "output_type": "stream",
     "text": [
      "apple\n",
      "banana\n"
     ]
    }
   ],
   "source": [
    "fruit = {\n",
    "        1: 'apple', \n",
    "        2: 'banana',\n",
    "        3: 'orange'\n",
    "     }\n",
    "print(fruit[1])\n",
    "print(fruit[2])"
   ]
  },
  {
   "cell_type": "code",
   "execution_count": 24,
   "id": "295b7e77-a031-4b1a-8283-66480bb6f19c",
   "metadata": {},
   "outputs": [
    {
     "name": "stdout",
     "output_type": "stream",
     "text": [
      "1\n"
     ]
    },
    {
     "ename": "KeyError",
     "evalue": "'Role'",
     "output_type": "error",
     "traceback": [
      "\u001b[1;31m---------------------------------------------------------------------------\u001b[0m",
      "\u001b[1;31mKeyError\u001b[0m                                  Traceback (most recent call last)",
      "Cell \u001b[1;32mIn[24], line 6\u001b[0m\n\u001b[0;32m      3\u001b[0m emp_id \u001b[38;5;241m=\u001b[39m emp_dict[\u001b[38;5;124m'\u001b[39m\u001b[38;5;124mID\u001b[39m\u001b[38;5;124m'\u001b[39m]\n\u001b[0;32m      4\u001b[0m \u001b[38;5;28mprint\u001b[39m(emp_id)\n\u001b[1;32m----> 6\u001b[0m emp_role \u001b[38;5;241m=\u001b[39m emp_dict[\u001b[38;5;124m'\u001b[39m\u001b[38;5;124mRole\u001b[39m\u001b[38;5;124m'\u001b[39m]\n\u001b[0;32m      7\u001b[0m \u001b[38;5;28mprint\u001b[39m(emp_role)\n",
      "\u001b[1;31mKeyError\u001b[0m: 'Role'"
     ]
    }
   ],
   "source": [
    "emp_dict = {'Name': 'shiva', 'ID': 1}\n",
    "\n",
    "emp_id = emp_dict['ID']\n",
    "print(emp_id)\n",
    "\n",
    "emp_role = emp_dict['Role']\n",
    "print(emp_role)"
   ]
  },
  {
   "cell_type": "code",
   "execution_count": 25,
   "id": "ff99584f-5e69-48fb-9e7d-b1d2b1cd9f53",
   "metadata": {},
   "outputs": [
    {
     "name": "stdout",
     "output_type": "stream",
     "text": [
      "1\n",
      "Shiva\n"
     ]
    }
   ],
   "source": [
    "emp_dict = {'Name': 'Shiva', 'ID': 1}\n",
    "\n",
    "emp_id = emp_dict['ID']\n",
    "print(emp_id)\n",
    "\n",
    "emp_role = emp_dict['Name']\n",
    "print(emp_role)"
   ]
  },
  {
   "cell_type": "code",
   "execution_count": 29,
   "id": "9cdbd2e9-d395-42ba-847c-b1738d59c82d",
   "metadata": {},
   "outputs": [
    {
     "name": "stdin",
     "output_type": "stream",
     "text": [
      "Enter a fruit to get its color:  apple\n"
     ]
    },
    {
     "name": "stdout",
     "output_type": "stream",
     "text": [
      "The color of apple is red.\n"
     ]
    }
   ],
   "source": [
    "# Sample: Get fruit color\n",
    "fruits_colors = {'apple': 'red', 'banana': 'yellow', 'grape': 'purple'}\n",
    "\n",
    "# Input: Get color for a fruit\n",
    "requested_fruit = input(\"Enter a fruit to get its color: \")\n",
    "\n",
    "# Attempt to access a key that may not be in the dictionary\n",
    "fruit_color = fruits_colors[requested_fruit]\n",
    "\n",
    "# If the above line is reached, print the color\n",
    "print(f\"The color of {requested_fruit} is {fruit_color}.\")\n"
   ]
  },
  {
   "cell_type": "code",
   "execution_count": 28,
   "id": "fe0fdef1-3445-497b-9a9a-ca716af0caa2",
   "metadata": {},
   "outputs": [
    {
     "name": "stdin",
     "output_type": "stream",
     "text": [
      "Enter a fruit to get its color:  apple\n"
     ]
    },
    {
     "name": "stdout",
     "output_type": "stream",
     "text": [
      "The color of apple is red.\n"
     ]
    }
   ],
   "source": [
    "# Sample: Get fruit color\n",
    "fruits_colors = {'apple': 'red', 'banana': 'yellow', 'grape': 'purple'}\n",
    "\n",
    "# Input: Get color for a fruit\n",
    "requested_fruit = input(\"Enter a fruit to get its color: \")\n",
    "\n",
    "# Check if the requested fruit is in the dictionary\n",
    "if requested_fruit in fruits_colors:\n",
    "    # If the fruit is found, get and print its color\n",
    "    fruit_color = fruits_colors[requested_fruit]\n",
    "    print(f\"The color of {requested_fruit} is {fruit_color}.\")\n",
    "else:\n",
    "    # If the fruit is not found, print an error message\n",
    "    print(f\"Error: {requested_fruit} not found in the list.\")\n"
   ]
  },
  {
   "cell_type": "code",
   "execution_count": 30,
   "id": "fc611e98-d159-4eb4-9a13-82769dab407f",
   "metadata": {},
   "outputs": [
    {
     "name": "stdout",
     "output_type": "stream",
     "text": [
      "60\n",
      "80\n",
      "67\n"
     ]
    },
    {
     "ename": "KeyError",
     "evalue": "'Vijay'",
     "output_type": "error",
     "traceback": [
      "\u001b[1;31m---------------------------------------------------------------------------\u001b[0m",
      "\u001b[1;31mKeyError\u001b[0m                                  Traceback (most recent call last)",
      "Cell \u001b[1;32mIn[30], line 5\u001b[0m\n\u001b[0;32m      3\u001b[0m \u001b[38;5;28mprint\u001b[39m(ages[\u001b[38;5;124m'\u001b[39m\u001b[38;5;124mnaveen\u001b[39m\u001b[38;5;124m'\u001b[39m])    \n\u001b[0;32m      4\u001b[0m \u001b[38;5;28mprint\u001b[39m(ages[\u001b[38;5;124m'\u001b[39m\u001b[38;5;124mKarthik\u001b[39m\u001b[38;5;124m'\u001b[39m])    \n\u001b[1;32m----> 5\u001b[0m \u001b[38;5;28mprint\u001b[39m(ages[\u001b[38;5;124m'\u001b[39m\u001b[38;5;124mVijay\u001b[39m\u001b[38;5;124m'\u001b[39m])\n",
      "\u001b[1;31mKeyError\u001b[0m: 'Vijay'"
     ]
    }
   ],
   "source": [
    "ages={'Shiva':60,'naveen':80,'Karthik':67}    \n",
    "print(ages['Shiva'])    \n",
    "print(ages['naveen'])    \n",
    "print(ages['Karthik'])    \n",
    "print(ages['Vijay'])"
   ]
  },
  {
   "cell_type": "code",
   "execution_count": 31,
   "id": "4386198f-eede-44c8-9a5c-c84cae222071",
   "metadata": {},
   "outputs": [
    {
     "name": "stdout",
     "output_type": "stream",
     "text": [
      "60\n",
      "80\n",
      "67\n"
     ]
    }
   ],
   "source": [
    "ages={'Shiva':60,'naveen':80,'Karthik':67}    \n",
    "print(ages['Shiva'])    \n",
    "print(ages['naveen'])    \n",
    "print(ages['Karthik'])"
   ]
  },
  {
   "cell_type": "code",
   "execution_count": 32,
   "id": "48b596f0-e6fc-40af-8e91-2b006419a356",
   "metadata": {},
   "outputs": [
    {
     "name": "stdout",
     "output_type": "stream",
     "text": [
      "{'a': 2, 'b': 5, 'c': 6}\n"
     ]
    },
    {
     "ename": "KeyError",
     "evalue": "'f'",
     "output_type": "error",
     "traceback": [
      "\u001b[1;31m---------------------------------------------------------------------------\u001b[0m",
      "\u001b[1;31mKeyError\u001b[0m                                  Traceback (most recent call last)",
      "Cell \u001b[1;32mIn[32], line 11\u001b[0m\n\u001b[0;32m      8\u001b[0m \u001b[38;5;28mprint\u001b[39m(my_dict)\n\u001b[0;32m     10\u001b[0m \u001b[38;5;66;03m# Access a key that doesn't exist (intentionally causing KeyError)\u001b[39;00m\n\u001b[1;32m---> 11\u001b[0m value \u001b[38;5;241m=\u001b[39m my_dict[\u001b[38;5;124m'\u001b[39m\u001b[38;5;124mf\u001b[39m\u001b[38;5;124m'\u001b[39m]\n\u001b[0;32m     13\u001b[0m \u001b[38;5;28mprint\u001b[39m(value)  \u001b[38;5;66;03m# This line will not be reached if KeyError occurs\u001b[39;00m\n\u001b[0;32m     15\u001b[0m \u001b[38;5;66;03m# Accessing keys that do exist\u001b[39;00m\n",
      "\u001b[1;31mKeyError\u001b[0m: 'f'"
     ]
    }
   ],
   "source": [
    "my_dict = {}  # Regular dictionary, not defaultdict\n",
    "\n",
    "# Creating a Dictionary and then Printing It\n",
    "my_dict['a'] = 2\n",
    "my_dict['b'] = 5\n",
    "my_dict['c'] = 6\n",
    "\n",
    "print(my_dict)\n",
    "\n",
    "# Access a key that doesn't exist (intentionally causing KeyError)\n",
    "value = my_dict['f']\n",
    "\n",
    "print(value)  # This line will not be reached if KeyError occurs\n",
    "\n",
    "# Accessing keys that do exist\n",
    "print(my_dict['a'])\n",
    "print(my_dict['b'])\n"
   ]
  },
  {
   "cell_type": "code",
   "execution_count": 33,
   "id": "f18c5957-e98c-4c87-b16b-a97afda7e560",
   "metadata": {},
   "outputs": [
    {
     "name": "stdout",
     "output_type": "stream",
     "text": [
      "{'a': 2, 'b': 5, 'c': 6}\n"
     ]
    },
    {
     "ename": "KeyError",
     "evalue": "'f'",
     "output_type": "error",
     "traceback": [
      "\u001b[1;31m---------------------------------------------------------------------------\u001b[0m",
      "\u001b[1;31mKeyError\u001b[0m                                  Traceback (most recent call last)",
      "Cell \u001b[1;32mIn[33], line 11\u001b[0m\n\u001b[0;32m      8\u001b[0m \u001b[38;5;28mprint\u001b[39m(my_dict)\n\u001b[0;32m     10\u001b[0m \u001b[38;5;66;03m# Access a key that doesn't exist (intentionally causing KeyError)\u001b[39;00m\n\u001b[1;32m---> 11\u001b[0m value \u001b[38;5;241m=\u001b[39m my_dict[\u001b[38;5;124m'\u001b[39m\u001b[38;5;124mf\u001b[39m\u001b[38;5;124m'\u001b[39m]\n\u001b[0;32m     13\u001b[0m \u001b[38;5;66;03m# The line above will not be reached if KeyError occurs\u001b[39;00m\n\u001b[0;32m     14\u001b[0m \u001b[38;5;28mprint\u001b[39m(value)  \u001b[38;5;66;03m# This line will not be reached if KeyError occurs\u001b[39;00m\n",
      "\u001b[1;31mKeyError\u001b[0m: 'f'"
     ]
    }
   ],
   "source": [
    "my_dict = {}  # Regular dictionary, not defaultdict\n",
    "\n",
    "# Creating a Dictionary and then Printing It\n",
    "my_dict['a'] = 2\n",
    "my_dict['b'] = 5\n",
    "my_dict['c'] = 6\n",
    "\n",
    "print(my_dict)\n",
    "\n",
    "# Access a key that doesn't exist (intentionally causing KeyError)\n",
    "value = my_dict['f']\n",
    "\n",
    "# The line above will not be reached if KeyError occurs\n",
    "print(value)  # This line will not be reached if KeyError occurs\n",
    "\n",
    "# Accessing keys that do exist\n",
    "print(my_dict['a'])\n",
    "print(my_dict['b'])\n"
   ]
  },
  {
   "cell_type": "code",
   "execution_count": 34,
   "id": "9127e09d-860a-45a8-9bec-0fdbbab613fd",
   "metadata": {},
   "outputs": [
    {
     "name": "stdout",
     "output_type": "stream",
     "text": [
      "{'a': 2, 'b': 5, 'c': 6}\n",
      "f\n",
      "2\n",
      "5\n"
     ]
    }
   ],
   "source": [
    "my_dict = {}  # Regular dictionary, not defaultdict\n",
    "\n",
    "# Creating a Dictionary and then Printing It\n",
    "my_dict['a'] = 2\n",
    "my_dict['b'] = 5\n",
    "my_dict['c'] = 6\n",
    "\n",
    "print(my_dict)\n",
    "\n",
    "# Access a key that doesn't exist (intentionally causing KeyError)\n",
    "value = 'f'\n",
    "\n",
    "# The line above will not be reached if KeyError occurs\n",
    "print(value)  # This line will not be reached if KeyError occurs\n",
    "\n",
    "# Accessing keys that do exist\n",
    "print(my_dict['a'])\n",
    "print(my_dict['b'])\n"
   ]
  },
  {
   "cell_type": "code",
   "execution_count": null,
   "id": "bdb1ef5e-8457-4d16-98fc-0b16df24e1c0",
   "metadata": {},
   "outputs": [],
   "source": []
  }
 ],
 "metadata": {
  "kernelspec": {
   "display_name": "Python 3 (ipykernel)",
   "language": "python",
   "name": "python3"
  },
  "language_info": {
   "codemirror_mode": {
    "name": "ipython",
    "version": 3
   },
   "file_extension": ".py",
   "mimetype": "text/x-python",
   "name": "python",
   "nbconvert_exporter": "python",
   "pygments_lexer": "ipython3",
   "version": "3.11.0"
  }
 },
 "nbformat": 4,
 "nbformat_minor": 5
}
