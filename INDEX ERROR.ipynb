{
 "cells": [
  {
   "cell_type": "code",
   "execution_count": 4,
   "id": "6c2b2b64-7022-4756-b1ea-6953188ccf51",
   "metadata": {},
   "outputs": [
    {
     "ename": "IndexError",
     "evalue": "list index out of range",
     "output_type": "error",
     "traceback": [
      "\u001b[1;31m---------------------------------------------------------------------------\u001b[0m",
      "\u001b[1;31mIndexError\u001b[0m                                Traceback (most recent call last)",
      "Cell \u001b[1;32mIn[4], line 2\u001b[0m\n\u001b[0;32m      1\u001b[0m test_list \u001b[38;5;241m=\u001b[39m [\u001b[38;5;241m23\u001b[39m, \u001b[38;5;241m32\u001b[39m, \u001b[38;5;241m43\u001b[39m, \u001b[38;5;241m54\u001b[39m]\n\u001b[1;32m----> 2\u001b[0m \u001b[38;5;28mprint\u001b[39m(test_list[\u001b[38;5;241m4\u001b[39m])\n",
      "\u001b[1;31mIndexError\u001b[0m: list index out of range"
     ]
    }
   ],
   "source": [
    "test_list = [23, 32, 43, 54]\n",
    "print(test_list[4])"
   ]
  },
  {
   "cell_type": "code",
   "execution_count": 6,
   "id": "90b64cfa-2853-4792-aef3-c7ed5df6ff3b",
   "metadata": {},
   "outputs": [
    {
     "name": "stdout",
     "output_type": "stream",
     "text": [
      "23\n",
      "32\n",
      "43\n",
      "54\n"
     ]
    }
   ],
   "source": [
    "test_list = [23, 32, 43, 54]\n",
    "\n",
    "for i in range(len(test_list)):\n",
    "    print(test_list[i])"
   ]
  },
  {
   "cell_type": "code",
   "execution_count": 9,
   "id": "47537d12-f2a2-4526-8a6a-1f875fc3a232",
   "metadata": {},
   "outputs": [
    {
     "name": "stdout",
     "output_type": "stream",
     "text": [
      "Result 1: 30\n"
     ]
    },
    {
     "ename": "IndexError",
     "evalue": "Error: Index 10 is out of range.",
     "output_type": "error",
     "traceback": [
      "\u001b[1;31m---------------------------------------------------------------------------\u001b[0m",
      "\u001b[1;31mIndexError\u001b[0m                                Traceback (most recent call last)",
      "Cell \u001b[1;32mIn[9], line 18\u001b[0m\n\u001b[0;32m     15\u001b[0m \u001b[38;5;28mprint\u001b[39m(\u001b[38;5;124mf\u001b[39m\u001b[38;5;124m\"\u001b[39m\u001b[38;5;124mResult 1: \u001b[39m\u001b[38;5;132;01m{\u001b[39;00mresult_1\u001b[38;5;132;01m}\u001b[39;00m\u001b[38;5;124m\"\u001b[39m)\n\u001b[0;32m     17\u001b[0m \u001b[38;5;66;03m# Test Case 2: Access an invalid index (intentionally causing IndexError)\u001b[39;00m\n\u001b[1;32m---> 18\u001b[0m result_2 \u001b[38;5;241m=\u001b[39m get_element(data_list, \u001b[38;5;241m10\u001b[39m)\n\u001b[0;32m     19\u001b[0m \u001b[38;5;28mprint\u001b[39m(\u001b[38;5;124mf\u001b[39m\u001b[38;5;124m\"\u001b[39m\u001b[38;5;124mResult 2: \u001b[39m\u001b[38;5;132;01m{\u001b[39;00mresult_2\u001b[38;5;132;01m}\u001b[39;00m\u001b[38;5;124m\"\u001b[39m)\n",
      "Cell \u001b[1;32mIn[9], line 8\u001b[0m, in \u001b[0;36mget_element\u001b[1;34m(data, index)\u001b[0m\n\u001b[0;32m      6\u001b[0m     \u001b[38;5;28;01mreturn\u001b[39;00m data[index]\n\u001b[0;32m      7\u001b[0m \u001b[38;5;28;01melse\u001b[39;00m:\n\u001b[1;32m----> 8\u001b[0m     \u001b[38;5;28;01mraise\u001b[39;00m \u001b[38;5;167;01mIndexError\u001b[39;00m(\u001b[38;5;124mf\u001b[39m\u001b[38;5;124m\"\u001b[39m\u001b[38;5;124mError: Index \u001b[39m\u001b[38;5;132;01m{\u001b[39;00mindex\u001b[38;5;132;01m}\u001b[39;00m\u001b[38;5;124m is out of range.\u001b[39m\u001b[38;5;124m\"\u001b[39m)\n",
      "\u001b[1;31mIndexError\u001b[0m: Error: Index 10 is out of range."
     ]
    }
   ],
   "source": [
    "\n",
    "\n",
    "def get_element(data, index):\n",
    "    # Check if the index is within the valid range\n",
    "    if 0 <= index < len(data):\n",
    "        return data[index]\n",
    "    else:\n",
    "        raise IndexError(f\"Error: Index {index} is out of range.\")\n",
    "\n",
    "# Test Cases\n",
    "data_list = [10, 20, 30, 40, 50]\n",
    "\n",
    "# Test Case 1: Access a valid index\n",
    "result_1 = get_element(data_list, 2)\n",
    "print(f\"Result 1: {result_1}\")\n",
    "\n",
    "# Test Case 2: Access an invalid index (intentionally causing IndexError)\n",
    "result_2 = get_element(data_list, 10)\n",
    "print(f\"Result 2: {result_2}\")\n"
   ]
  },
  {
   "cell_type": "code",
   "execution_count": 11,
   "id": "5f144bfa-986b-4058-b4e4-793625e4274e",
   "metadata": {},
   "outputs": [
    {
     "name": "stdout",
     "output_type": "stream",
     "text": [
      "Result 1: 30\n",
      "Error: Index 10 is out of range.\n",
      "Result 2: None\n"
     ]
    }
   ],
   "source": [
    "#\n",
    "\n",
    "def get_element(data, index):\n",
    "    # Check if the index is within the valid range\n",
    "    if 0 <= index < len(data):\n",
    "        return data[index]\n",
    "    else:\n",
    "        print(f\"Error: Index {index} is out of range.\")\n",
    "        return None  # or any other special value indicating an error\n",
    "\n",
    "# Test Cases\n",
    "data_list = [10, 20, 30, 40, 50]\n",
    "\n",
    "# Test Case 1: Access a valid index\n",
    "result_1 = get_element(data_list, 2)\n",
    "print(f\"Result 1: {result_1}\")\n",
    "\n",
    "# Test Case 2: Access an invalid index (no try-except)\n",
    "result_2 = get_element(data_list, 10)\n",
    "print(f\"Result 2: {result_2}\")\n"
   ]
  },
  {
   "cell_type": "code",
   "execution_count": null,
   "id": "b76db260-8203-4c95-b499-f683adc58501",
   "metadata": {},
   "outputs": [],
   "source": []
  }
 ],
 "metadata": {
  "kernelspec": {
   "display_name": "Python 3 (ipykernel)",
   "language": "python",
   "name": "python3"
  },
  "language_info": {
   "codemirror_mode": {
    "name": "ipython",
    "version": 3
   },
   "file_extension": ".py",
   "mimetype": "text/x-python",
   "name": "python",
   "nbconvert_exporter": "python",
   "pygments_lexer": "ipython3",
   "version": "3.11.0"
  }
 },
 "nbformat": 4,
 "nbformat_minor": 5
}
